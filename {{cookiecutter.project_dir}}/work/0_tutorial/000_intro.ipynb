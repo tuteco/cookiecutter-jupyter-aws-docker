{
 "cells": [
  {
   "cell_type": "markdown",
   "id": "ee2ba5b7-429f-4e37-9ce1-042ba9f53ab2",
   "metadata": {},
   "source": [
    "# tutorial\n",
    "this tutorial demonstrates the basic capabilities of projects build upon the [cookiecutter jupyter aws docker template](https://github.com/tuteco/cookiecutter-jupyter-aws-docker).\n",
    "\n",
    "contents\n",
    "- [000_intro](000_intro.ipynb) - the intro you are reading now\n",
    "- [010_aws_cli](010_aws_cli.ipynb) - working with the AWS command line interface inside a notebook\n",
    "- [020_get_s3_local](020_get_s3_local.ipynb) - python example to get data files from S3 locally for further analysis\n",
    "- [030_local_postgres](030_local_postgres.ipynb) - extend your setup with a local PostgreSQL DB instance\n",
    "\n",
    "## container setup explained\n",
    "\n",
    "Using local containers can be a challenge when you want to connect to AWS. Especially when your company is using single-sign sign on with temporary credentials. But you can use this setup even, when you work with permanent credentials.\n",
    "\n",
    "This setup is a must have, if your containers should be deployed to ECS. \n",
    "\n",
    "The setup contains two containers as the base setup.\n",
    "\n",
    "\n",
    "![](../media/credentials_workflow.png)\n",
    "\n"
   ]
  },
  {
   "cell_type": "code",
   "execution_count": null,
   "id": "5fb7557b-9655-4d27-9603-281706bac097",
   "metadata": {},
   "outputs": [],
   "source": []
  }
 ],
 "metadata": {
  "kernelspec": {
   "display_name": "Python 3 (ipykernel)",
   "language": "python",
   "name": "python3"
  },
  "language_info": {
   "codemirror_mode": {
    "name": "ipython",
    "version": 3
   },
   "file_extension": ".py",
   "mimetype": "text/x-python",
   "name": "python",
   "nbconvert_exporter": "python",
   "pygments_lexer": "ipython3",
   "version": "3.9.6"
  }
 },
 "nbformat": 4,
 "nbformat_minor": 5
}
