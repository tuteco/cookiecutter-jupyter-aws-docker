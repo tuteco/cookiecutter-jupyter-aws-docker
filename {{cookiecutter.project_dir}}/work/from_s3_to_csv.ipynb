{
 "cells": [
  {
   "cell_type": "markdown",
   "source": [
    "# Example\n",
    "\n",
    "this notebook is an example, it shows how\n",
    "- list objects in S3 Bucket\n",
    "- read the data from S3 into DataFrame\n",
    "- store the data local as a CSV file\n",
    "\n",
    "\n",
    "### 1. Get default S3 Bucket name"
   ],
   "metadata": {
    "collapsed": false,
    "pycharm": {
     "name": "#%% md\n"
    }
   }
  },
  {
   "cell_type": "code",
   "execution_count": null,
   "outputs": [],
   "source": [
    "from os import getenv\n",
    "s3_bucket = getenv('S3_BUCKET', '')\n",
    "s3_bucket"
   ],
   "metadata": {
    "collapsed": false,
    "pycharm": {
     "name": "#%%\n"
    }
   }
  },
  {
   "cell_type": "markdown",
   "source": [
    "### 2. Get default S3 Prefix"
   ],
   "metadata": {
    "collapsed": false,
    "pycharm": {
     "name": "#%% md\n"
    }
   }
  },
  {
   "cell_type": "code",
   "execution_count": null,
   "outputs": [],
   "source": [
    "s3_prefix = getenv('S3_PREFIX', '')\n",
    "s3_prefix\n"
   ],
   "metadata": {
    "collapsed": false,
    "pycharm": {
     "name": "#%%\n"
    }
   }
  },
  {
   "cell_type": "markdown",
   "source": [
    "### 3. List objects in S3 Bucket"
   ],
   "metadata": {
    "collapsed": false
   }
  },
  {
   "cell_type": "code",
   "execution_count": 3,
   "metadata": {
    "collapsed": false,
    "jupyter": {
     "outputs_hidden": false
    },
    "pycharm": {
     "name": "#%%\n"
    }
   },
   "outputs": [],
   "source": [
    "import s3fs\n",
    "s3_instance = s3fs.S3FileSystem(anon=False)\n",
    "obj_list = s3_instance.find(f\"{s3_bucket}/{s3_prefix}\", withdirs=False)\n",
    "obj_list"
   ]
  },
  {
   "cell_type": "markdown",
   "source": [
    "### 4. Get the content of the first S3 object\n",
    "\n",
    "CSV only supported"
   ],
   "metadata": {
    "collapsed": false
   }
  },
  {
   "cell_type": "code",
   "execution_count": null,
   "outputs": [],
   "source": [
    "import pandas as pd\n",
    "\n",
    "result = pd.DataFrame()\n",
    "for obj_name in obj_list:\n",
    "    if obj_name.lower().endswith('.csv'):\n",
    "        result = pd.read_csv(f\"s3://{s3_bucket}/{s3_prefix}/{obj_name}\")\n",
    "\n",
    "result"
   ],
   "metadata": {
    "collapsed": false,
    "pycharm": {
     "name": "#%%\n"
    }
   }
  },
  {
   "cell_type": "markdown",
   "source": [
    "### 5. Save data local as .CSV file"
   ],
   "metadata": {
    "collapsed": false
   }
  },
  {
   "cell_type": "code",
   "execution_count": 5,
   "metadata": {
    "pycharm": {
     "name": "#%%\n"
    }
   },
   "outputs": [],
   "source": [
    "result.to_csv(\"data_from_s3.csv\")"
   ]
  }
 ],
 "metadata": {
  "kernelspec": {
   "display_name": "Python 3 (ipykernel)",
   "language": "python",
   "name": "python3"
  },
  "language_info": {
   "codemirror_mode": {
    "name": "ipython",
    "version": 3
   },
   "file_extension": ".py",
   "mimetype": "text/x-python",
   "name": "python",
   "nbconvert_exporter": "python",
   "pygments_lexer": "ipython3",
   "version": "3.9.5"
  }
 },
 "nbformat": 4,
 "nbformat_minor": 4
}